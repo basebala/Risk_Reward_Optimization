{
 "cells": [
  {
   "cell_type": "code",
   "execution_count": 1,
   "metadata": {
    "colab": {
     "base_uri": "https://localhost:8080/"
    },
    "executionInfo": {
     "elapsed": 3415,
     "status": "ok",
     "timestamp": 1669766456706,
     "user": {
      "displayName": "Thomas Seward",
      "userId": "09430962892155335813"
     },
     "user_tz": 480
    },
    "id": "ZRIBOu3lFIiH",
    "outputId": "f4ad275f-1fd2-432b-8fec-22eced982efa"
   },
   "outputs": [
    {
     "name": "stdout",
     "output_type": "stream",
     "text": [
      "Requirement already satisfied: docplex in ./anaconda3/lib/python3.11/site-packages (2.28.240)\n",
      "Requirement already satisfied: six in ./anaconda3/lib/python3.11/site-packages (from docplex) (1.16.0)\n",
      "Requirement already satisfied: pandas in ./anaconda3/lib/python3.11/site-packages (2.0.3)\n",
      "Requirement already satisfied: python-dateutil>=2.8.2 in ./anaconda3/lib/python3.11/site-packages (from pandas) (2.8.2)\n",
      "Requirement already satisfied: pytz>=2020.1 in ./anaconda3/lib/python3.11/site-packages (from pandas) (2023.3.post1)\n",
      "Requirement already satisfied: tzdata>=2022.1 in ./anaconda3/lib/python3.11/site-packages (from pandas) (2023.3)\n",
      "Requirement already satisfied: numpy>=1.21.0 in ./anaconda3/lib/python3.11/site-packages (from pandas) (1.24.3)\n",
      "Requirement already satisfied: six>=1.5 in ./anaconda3/lib/python3.11/site-packages (from python-dateutil>=2.8.2->pandas) (1.16.0)\n"
     ]
    }
   ],
   "source": [
    "!pip3 install docplex\n",
    "!pip3 install pandas"
   ]
  },
  {
   "cell_type": "code",
   "execution_count": 2,
   "metadata": {
    "id": "lpoFVY77BG8C"
   },
   "outputs": [],
   "source": [
    "import docplex.mp.model as cpx\n",
    "import pandas as pd"
   ]
  },
  {
   "cell_type": "code",
   "execution_count": 3,
   "metadata": {
    "id": "b3Xk6mi0_ev4"
   },
   "outputs": [],
   "source": [
    "def parse_data(csv_file):\n",
    "  ''' Returns a clean pandas dataframe containing the stock data in csv_file '''\n",
    "  df = pd.read_csv(csv_file)\n",
    "  df = df.dropna(axis=1).set_index('Date', inplace=False)\n",
    "  df.index = pd.to_datetime(df.index)\n",
    "  df.sort_index(inplace=True)\n",
    "  idx = pd.date_range(df.index[0], df.index[-1])\n",
    "  df = df.reindex(idx, method='bfill')\n",
    "  return df"
   ]
  },
  {
   "cell_type": "code",
   "execution_count": 4,
   "metadata": {
    "colab": {
     "base_uri": "https://localhost:8080/",
     "height": 307
    },
    "executionInfo": {
     "elapsed": 156,
     "status": "error",
     "timestamp": 1669767104125,
     "user": {
      "displayName": "Thomas Seward",
      "userId": "09430962892155335813"
     },
     "user_tz": 480
    },
    "id": "Wm6ivE8knSG-",
    "outputId": "75a07643-058e-4203-a392-6f908a6ecd52"
   },
   "outputs": [],
   "source": [
    "df = parse_data('snp.csv')"
   ]
  },
  {
   "cell_type": "code",
   "execution_count": 5,
   "metadata": {
    "id": "XBVnM6q805gt"
   },
   "outputs": [],
   "source": [
    "index = parse_data('index.csv')"
   ]
  },
  {
   "cell_type": "code",
   "execution_count": 6,
   "metadata": {
    "colab": {
     "base_uri": "https://localhost:8080/",
     "height": 653
    },
    "executionInfo": {
     "elapsed": 282,
     "status": "ok",
     "timestamp": 1669766299806,
     "user": {
      "displayName": "Max Vaysburd",
      "userId": "10199512482720636822"
     },
     "user_tz": 480
    },
    "id": "7xV7Dq3W07qW",
    "outputId": "2f25b1b8-a5cb-4422-8384-4948beffa051"
   },
   "outputs": [
    {
     "data": {
      "text/html": [
       "<div>\n",
       "<style scoped>\n",
       "    .dataframe tbody tr th:only-of-type {\n",
       "        vertical-align: middle;\n",
       "    }\n",
       "\n",
       "    .dataframe tbody tr th {\n",
       "        vertical-align: top;\n",
       "    }\n",
       "\n",
       "    .dataframe thead th {\n",
       "        text-align: right;\n",
       "    }\n",
       "</style>\n",
       "<table border=\"1\" class=\"dataframe\">\n",
       "  <thead>\n",
       "    <tr style=\"text-align: right;\">\n",
       "      <th></th>\n",
       "      <th>Close/Last</th>\n",
       "      <th>Volume</th>\n",
       "      <th>Open</th>\n",
       "      <th>High</th>\n",
       "      <th>Low</th>\n",
       "    </tr>\n",
       "  </thead>\n",
       "  <tbody>\n",
       "    <tr>\n",
       "      <th>2017-11-29</th>\n",
       "      <td>2626.07</td>\n",
       "      <td>--</td>\n",
       "      <td>2627.82</td>\n",
       "      <td>2634.89</td>\n",
       "      <td>2620.32</td>\n",
       "    </tr>\n",
       "    <tr>\n",
       "      <th>2017-11-30</th>\n",
       "      <td>2647.58</td>\n",
       "      <td>--</td>\n",
       "      <td>2633.93</td>\n",
       "      <td>2657.74</td>\n",
       "      <td>2633.93</td>\n",
       "    </tr>\n",
       "    <tr>\n",
       "      <th>2017-12-01</th>\n",
       "      <td>2642.22</td>\n",
       "      <td>--</td>\n",
       "      <td>2645.10</td>\n",
       "      <td>2650.62</td>\n",
       "      <td>2605.52</td>\n",
       "    </tr>\n",
       "    <tr>\n",
       "      <th>2017-12-02</th>\n",
       "      <td>2639.44</td>\n",
       "      <td>--</td>\n",
       "      <td>2657.19</td>\n",
       "      <td>2665.19</td>\n",
       "      <td>2639.03</td>\n",
       "    </tr>\n",
       "    <tr>\n",
       "      <th>2017-12-03</th>\n",
       "      <td>2639.44</td>\n",
       "      <td>--</td>\n",
       "      <td>2657.19</td>\n",
       "      <td>2665.19</td>\n",
       "      <td>2639.03</td>\n",
       "    </tr>\n",
       "    <tr>\n",
       "      <th>...</th>\n",
       "      <td>...</td>\n",
       "      <td>...</td>\n",
       "      <td>...</td>\n",
       "      <td>...</td>\n",
       "      <td>...</td>\n",
       "    </tr>\n",
       "    <tr>\n",
       "      <th>2022-11-24</th>\n",
       "      <td>4026.12</td>\n",
       "      <td>--</td>\n",
       "      <td>4023.34</td>\n",
       "      <td>4034.02</td>\n",
       "      <td>4020.76</td>\n",
       "    </tr>\n",
       "    <tr>\n",
       "      <th>2022-11-25</th>\n",
       "      <td>4026.12</td>\n",
       "      <td>--</td>\n",
       "      <td>4023.34</td>\n",
       "      <td>4034.02</td>\n",
       "      <td>4020.76</td>\n",
       "    </tr>\n",
       "    <tr>\n",
       "      <th>2022-11-26</th>\n",
       "      <td>3963.94</td>\n",
       "      <td>--</td>\n",
       "      <td>4005.36</td>\n",
       "      <td>4012.27</td>\n",
       "      <td>3955.77</td>\n",
       "    </tr>\n",
       "    <tr>\n",
       "      <th>2022-11-27</th>\n",
       "      <td>3963.94</td>\n",
       "      <td>--</td>\n",
       "      <td>4005.36</td>\n",
       "      <td>4012.27</td>\n",
       "      <td>3955.77</td>\n",
       "    </tr>\n",
       "    <tr>\n",
       "      <th>2022-11-28</th>\n",
       "      <td>3963.94</td>\n",
       "      <td>--</td>\n",
       "      <td>4005.36</td>\n",
       "      <td>4012.27</td>\n",
       "      <td>3955.77</td>\n",
       "    </tr>\n",
       "  </tbody>\n",
       "</table>\n",
       "<p>1826 rows × 5 columns</p>\n",
       "</div>"
      ],
      "text/plain": [
       "            Close/Last Volume     Open     High      Low\n",
       "2017-11-29     2626.07     --  2627.82  2634.89  2620.32\n",
       "2017-11-30     2647.58     --  2633.93  2657.74  2633.93\n",
       "2017-12-01     2642.22     --  2645.10  2650.62  2605.52\n",
       "2017-12-02     2639.44     --  2657.19  2665.19  2639.03\n",
       "2017-12-03     2639.44     --  2657.19  2665.19  2639.03\n",
       "...                ...    ...      ...      ...      ...\n",
       "2022-11-24     4026.12     --  4023.34  4034.02  4020.76\n",
       "2022-11-25     4026.12     --  4023.34  4034.02  4020.76\n",
       "2022-11-26     3963.94     --  4005.36  4012.27  3955.77\n",
       "2022-11-27     3963.94     --  4005.36  4012.27  3955.77\n",
       "2022-11-28     3963.94     --  4005.36  4012.27  3955.77\n",
       "\n",
       "[1826 rows x 5 columns]"
      ]
     },
     "execution_count": 6,
     "metadata": {},
     "output_type": "execute_result"
    }
   ],
   "source": [
    "index"
   ]
  },
  {
   "cell_type": "code",
   "execution_count": 7,
   "metadata": {
    "colab": {
     "base_uri": "https://localhost:8080/",
     "height": 1000
    },
    "executionInfo": {
     "elapsed": 178,
     "status": "ok",
     "timestamp": 1669765841620,
     "user": {
      "displayName": "Max Vaysburd",
      "userId": "10199512482720636822"
     },
     "user_tz": 480
    },
    "id": "u0nXXi2qpIvF",
    "outputId": "ba416831-9933-41e5-fbbd-88e12574b83a"
   },
   "outputs": [
    {
     "data": {
      "text/html": [
       "<div>\n",
       "<style scoped>\n",
       "    .dataframe tbody tr th:only-of-type {\n",
       "        vertical-align: middle;\n",
       "    }\n",
       "\n",
       "    .dataframe tbody tr th {\n",
       "        vertical-align: top;\n",
       "    }\n",
       "\n",
       "    .dataframe thead th {\n",
       "        text-align: right;\n",
       "    }\n",
       "</style>\n",
       "<table border=\"1\" class=\"dataframe\">\n",
       "  <thead>\n",
       "    <tr style=\"text-align: right;\">\n",
       "      <th></th>\n",
       "      <th>MMM</th>\n",
       "      <th>AOS</th>\n",
       "      <th>ABT</th>\n",
       "      <th>ABBV</th>\n",
       "      <th>ABMD</th>\n",
       "      <th>ACN</th>\n",
       "      <th>ATVI</th>\n",
       "      <th>ADM</th>\n",
       "      <th>ADBE</th>\n",
       "      <th>ADP</th>\n",
       "      <th>...</th>\n",
       "      <th>WTW</th>\n",
       "      <th>GWW</th>\n",
       "      <th>WYNN</th>\n",
       "      <th>XEL</th>\n",
       "      <th>XYL</th>\n",
       "      <th>YUM</th>\n",
       "      <th>ZBRA</th>\n",
       "      <th>ZBH</th>\n",
       "      <th>ZION</th>\n",
       "      <th>ZTS</th>\n",
       "    </tr>\n",
       "  </thead>\n",
       "  <tbody>\n",
       "    <tr>\n",
       "      <th>2017-01-03</th>\n",
       "      <td>178.050003</td>\n",
       "      <td>47.500000</td>\n",
       "      <td>39.049999</td>\n",
       "      <td>62.410000</td>\n",
       "      <td>112.360001</td>\n",
       "      <td>116.459999</td>\n",
       "      <td>36.639999</td>\n",
       "      <td>46.189999</td>\n",
       "      <td>103.480003</td>\n",
       "      <td>103.500000</td>\n",
       "      <td>...</td>\n",
       "      <td>123.239998</td>\n",
       "      <td>234.449997</td>\n",
       "      <td>87.459999</td>\n",
       "      <td>40.619999</td>\n",
       "      <td>49.650002</td>\n",
       "      <td>63.209999</td>\n",
       "      <td>86.250000</td>\n",
       "      <td>100.320389</td>\n",
       "      <td>43.180000</td>\n",
       "      <td>53.590000</td>\n",
       "    </tr>\n",
       "    <tr>\n",
       "      <th>2017-01-04</th>\n",
       "      <td>178.320007</td>\n",
       "      <td>47.919998</td>\n",
       "      <td>39.360001</td>\n",
       "      <td>63.290001</td>\n",
       "      <td>115.739998</td>\n",
       "      <td>116.739998</td>\n",
       "      <td>37.360001</td>\n",
       "      <td>46.110001</td>\n",
       "      <td>104.139999</td>\n",
       "      <td>103.660004</td>\n",
       "      <td>...</td>\n",
       "      <td>124.760002</td>\n",
       "      <td>236.330002</td>\n",
       "      <td>90.279999</td>\n",
       "      <td>40.799999</td>\n",
       "      <td>50.389999</td>\n",
       "      <td>63.439999</td>\n",
       "      <td>87.029999</td>\n",
       "      <td>101.242722</td>\n",
       "      <td>43.799999</td>\n",
       "      <td>54.110001</td>\n",
       "    </tr>\n",
       "    <tr>\n",
       "      <th>2017-01-05</th>\n",
       "      <td>177.710007</td>\n",
       "      <td>47.700001</td>\n",
       "      <td>39.700001</td>\n",
       "      <td>63.770000</td>\n",
       "      <td>114.809998</td>\n",
       "      <td>114.989998</td>\n",
       "      <td>37.939999</td>\n",
       "      <td>45.770000</td>\n",
       "      <td>105.910004</td>\n",
       "      <td>103.040001</td>\n",
       "      <td>...</td>\n",
       "      <td>125.959999</td>\n",
       "      <td>232.259995</td>\n",
       "      <td>91.440002</td>\n",
       "      <td>40.799999</td>\n",
       "      <td>49.930000</td>\n",
       "      <td>63.650002</td>\n",
       "      <td>84.750000</td>\n",
       "      <td>101.893204</td>\n",
       "      <td>43.090000</td>\n",
       "      <td>53.930000</td>\n",
       "    </tr>\n",
       "    <tr>\n",
       "      <th>2017-01-06</th>\n",
       "      <td>178.229996</td>\n",
       "      <td>47.720001</td>\n",
       "      <td>40.779999</td>\n",
       "      <td>63.790001</td>\n",
       "      <td>115.419998</td>\n",
       "      <td>116.300003</td>\n",
       "      <td>37.910000</td>\n",
       "      <td>44.720001</td>\n",
       "      <td>108.300003</td>\n",
       "      <td>103.110001</td>\n",
       "      <td>...</td>\n",
       "      <td>126.779999</td>\n",
       "      <td>231.500000</td>\n",
       "      <td>92.430000</td>\n",
       "      <td>40.919998</td>\n",
       "      <td>49.580002</td>\n",
       "      <td>64.419998</td>\n",
       "      <td>85.959999</td>\n",
       "      <td>101.902916</td>\n",
       "      <td>43.369999</td>\n",
       "      <td>54.099998</td>\n",
       "    </tr>\n",
       "    <tr>\n",
       "      <th>2017-01-07</th>\n",
       "      <td>177.270004</td>\n",
       "      <td>47.400002</td>\n",
       "      <td>40.740002</td>\n",
       "      <td>64.209999</td>\n",
       "      <td>117.110001</td>\n",
       "      <td>115.000000</td>\n",
       "      <td>37.700001</td>\n",
       "      <td>44.750000</td>\n",
       "      <td>108.570000</td>\n",
       "      <td>102.470001</td>\n",
       "      <td>...</td>\n",
       "      <td>126.010002</td>\n",
       "      <td>230.350006</td>\n",
       "      <td>92.750000</td>\n",
       "      <td>40.299999</td>\n",
       "      <td>49.369999</td>\n",
       "      <td>64.599998</td>\n",
       "      <td>85.970001</td>\n",
       "      <td>103.883492</td>\n",
       "      <td>42.900002</td>\n",
       "      <td>53.950001</td>\n",
       "    </tr>\n",
       "  </tbody>\n",
       "</table>\n",
       "<p>5 rows × 488 columns</p>\n",
       "</div>"
      ],
      "text/plain": [
       "                   MMM        AOS        ABT       ABBV        ABMD  \\\n",
       "2017-01-03  178.050003  47.500000  39.049999  62.410000  112.360001   \n",
       "2017-01-04  178.320007  47.919998  39.360001  63.290001  115.739998   \n",
       "2017-01-05  177.710007  47.700001  39.700001  63.770000  114.809998   \n",
       "2017-01-06  178.229996  47.720001  40.779999  63.790001  115.419998   \n",
       "2017-01-07  177.270004  47.400002  40.740002  64.209999  117.110001   \n",
       "\n",
       "                   ACN       ATVI        ADM        ADBE         ADP  ...  \\\n",
       "2017-01-03  116.459999  36.639999  46.189999  103.480003  103.500000  ...   \n",
       "2017-01-04  116.739998  37.360001  46.110001  104.139999  103.660004  ...   \n",
       "2017-01-05  114.989998  37.939999  45.770000  105.910004  103.040001  ...   \n",
       "2017-01-06  116.300003  37.910000  44.720001  108.300003  103.110001  ...   \n",
       "2017-01-07  115.000000  37.700001  44.750000  108.570000  102.470001  ...   \n",
       "\n",
       "                   WTW         GWW       WYNN        XEL        XYL  \\\n",
       "2017-01-03  123.239998  234.449997  87.459999  40.619999  49.650002   \n",
       "2017-01-04  124.760002  236.330002  90.279999  40.799999  50.389999   \n",
       "2017-01-05  125.959999  232.259995  91.440002  40.799999  49.930000   \n",
       "2017-01-06  126.779999  231.500000  92.430000  40.919998  49.580002   \n",
       "2017-01-07  126.010002  230.350006  92.750000  40.299999  49.369999   \n",
       "\n",
       "                  YUM       ZBRA         ZBH       ZION        ZTS  \n",
       "2017-01-03  63.209999  86.250000  100.320389  43.180000  53.590000  \n",
       "2017-01-04  63.439999  87.029999  101.242722  43.799999  54.110001  \n",
       "2017-01-05  63.650002  84.750000  101.893204  43.090000  53.930000  \n",
       "2017-01-06  64.419998  85.959999  101.902916  43.369999  54.099998  \n",
       "2017-01-07  64.599998  85.970001  103.883492  42.900002  53.950001  \n",
       "\n",
       "[5 rows x 488 columns]"
      ]
     },
     "execution_count": 7,
     "metadata": {},
     "output_type": "execute_result"
    }
   ],
   "source": [
    "df.head()"
   ]
  },
  {
   "cell_type": "code",
   "execution_count": 8,
   "metadata": {
    "colab": {
     "base_uri": "https://localhost:8080/",
     "height": 164
    },
    "executionInfo": {
     "elapsed": 149,
     "status": "error",
     "timestamp": 1669766442621,
     "user": {
      "displayName": "Thomas Seward",
      "userId": "09430962892155335813"
     },
     "user_tz": 480
    },
    "id": "k4nMCmcuuewF",
    "outputId": "64bd282a-56a1-41b1-c842-3cddb53ae809"
   },
   "outputs": [],
   "source": [
    "returns = df.pct_change(7)[df.index.dayofweek == 0].dropna()\n",
    "index_returns = index['Close/Last'].pct_change(7)[index.index.dayofweek == 0].dropna()"
   ]
  },
  {
   "cell_type": "code",
   "execution_count": 9,
   "metadata": {
    "colab": {
     "base_uri": "https://localhost:8080/",
     "height": 653
    },
    "executionInfo": {
     "elapsed": 224,
     "status": "ok",
     "timestamp": 1669765853791,
     "user": {
      "displayName": "Max Vaysburd",
      "userId": "10199512482720636822"
     },
     "user_tz": 480
    },
    "id": "A0MNig6HuoDk",
    "outputId": "041d0fb3-146c-4adb-a7f8-d924b1fb8ff1"
   },
   "outputs": [],
   "source": [
    "#returns = returns.iloc[:, :10]"
   ]
  },
  {
   "cell_type": "code",
   "execution_count": 10,
   "metadata": {},
   "outputs": [
    {
     "data": {
      "text/plain": [
       "2017-12-11    0.007786\n",
       "2017-12-18    0.011342\n",
       "2017-12-25   -0.003591\n",
       "2018-01-01    0.005712\n",
       "2018-01-08    0.019252\n",
       "                ...   \n",
       "2022-10-31    0.019656\n",
       "2022-11-07   -0.016834\n",
       "2022-11-14    0.039521\n",
       "2022-11-21   -0.001847\n",
       "2022-11-28    0.003544\n",
       "Name: Close/Last, Length: 260, dtype: float64"
      ]
     },
     "execution_count": 10,
     "metadata": {},
     "output_type": "execute_result"
    }
   ],
   "source": [
    "index_returns"
   ]
  },
  {
   "cell_type": "markdown",
   "metadata": {
    "id": "XvVNKzoiFjnB"
   },
   "source": [
    "Variables:\n",
    "\n",
    "$x_0, x_1,\\dots, x_n$: weights of stocks in portfolio, sum should be 1\n",
    "\n",
    "---\n",
    "\n",
    "Returns defined as: $$r_{i,t} = \\frac{P_{i,t} - P_{i,t-1}}{P_{i,t-1}}$$\n",
    "$P_{i,t}$ is the closing price for stock $i$ at day $t$.\n",
    "\n",
    "$T=150$: 150 week in-sample size"
   ]
  },
  {
   "cell_type": "markdown",
   "metadata": {
    "id": "gYMwHQFmqzjw"
   },
   "source": [
    "### Omega Ratio"
   ]
  },
  {
   "cell_type": "code",
   "execution_count": 11,
   "metadata": {
    "id": "HUt_NSHs2IUM"
   },
   "outputs": [],
   "source": [
    "def expected_return(asset, returns_df):\n",
    "    return returns_df[asset].mean()"
   ]
  },
  {
   "cell_type": "code",
   "execution_count": 12,
   "metadata": {
    "id": "eXz0yfFB2LpQ"
   },
   "outputs": [],
   "source": [
    "def expected_return_portfolio(portfolio_weights, returns_df):\n",
    "    output = 0\n",
    "    for i in range(len(portfolio_weights)):\n",
    "      output += expected_return(returns_df.columns[i], returns_df) * portfolio_weights[i]\n",
    "    return output"
   ]
  },
  {
   "cell_type": "code",
   "execution_count": 13,
   "metadata": {},
   "outputs": [],
   "source": [
    "opt_model = cpx.Model(name=\"Omega Model\")"
   ]
  },
  {
   "cell_type": "code",
   "execution_count": 14,
   "metadata": {},
   "outputs": [],
   "source": [
    "L = float(index_returns.mean())\n",
    "T = 150\n",
    "n = returns.shape[1]\n",
    "p = 1./150\n",
    "x_vars  = {n: opt_model.continuous_var(lb=0, ub= 1,\n",
    "                                 name=\"x_{0}\".format(n)) \n",
    "for n in range(n)}\n",
    "theta = opt_model.continuous_var(lb=0, name=\"theta\")\n",
    "d_vars = {t: opt_model.continuous_var(name=\"d_{0}\".format(t)) for t in range(T)}\n",
    "z = opt_model.continuous_var(name=\"z\")\n",
    "\n",
    "constraints = {}\n",
    "\n",
    "constraints[3] = opt_model.add_constraint(ct = opt_model.sum(opt_model.sum(float(returns.iloc[t, i])*x_vars[i]*p for i in range(n)) for t in range(T)) - z*L >= theta, ctname=\"3\")\n",
    "\n",
    "\n",
    "for t in range(T):\n",
    "    constraints[\"5_{0}\".format(t)] = opt_model.add_constraint(ct = L*z - opt_model.sum(float(returns.iloc[t, i])*x_vars[i] for i in range(n)) <= d_vars[t], ctname=\"5_{0}\".format(t))\n",
    "\n",
    "constraints[6] = opt_model.add_constraint(ct = opt_model.sum(p*d_vars[t] for t in range(T)) == 1, ctname=\"6\")\n",
    "constraints[7] = opt_model.add_constraint(ct = opt_model.sum(x_vars[i] for i in range(n)) == 1, ctname=\"7\")\n",
    "opt_model.maximize(theta)\n"
   ]
  },
  {
   "cell_type": "code",
   "execution_count": 15,
   "metadata": {},
   "outputs": [],
   "source": [
    "#constraints[8] = opt_model.add_constraint(ct = z <= 1/p, ctname=\"8\")"
   ]
  },
  {
   "cell_type": "markdown",
   "metadata": {
    "id": "JMX4cbBurMPH"
   },
   "source": [
    "### Robust Omega Ratio"
   ]
  },
  {
   "cell_type": "code",
   "execution_count": 16,
   "metadata": {
    "id": "N0Ao__DCAkS1"
   },
   "outputs": [],
   "source": [
    "def cutting_plane(returns):\n",
    "  ''' Applies the cutting plane algorithm using the given returns as data '''\n",
    "  pass"
   ]
  },
  {
   "cell_type": "code",
   "execution_count": 17,
   "metadata": {
    "id": "icVbUmA1FU-T"
   },
   "outputs": [
    {
     "name": "stdout",
     "output_type": "stream",
     "text": [
      "Version identifier: 22.1.1.0 | 2023-06-15 | d64d5bd77\n",
      "CPXPARAM_Read_DataCheck                          1\n",
      "Tried aggregator 1 time.\n",
      "LP Presolve eliminated 0 rows and 1 columns.\n",
      "Reduced LP has 153 rows, 639 columns, and 74261 nonzeros.\n",
      "Presolve time = 0.02 sec. (14.52 ticks)\n",
      "\n",
      "Iteration log . . .\n",
      "Iteration:     1   Scaled dual infeas =             1.000000\n",
      "Perturbation started.\n",
      "Iteration:    51   Scaled dual infeas =             1.000000\n",
      "Iteration:   101   Dual objective     =             3.564429\n",
      "Removing perturbation.\n"
     ]
    }
   ],
   "source": [
    "solution = opt_model.solve(log_output=True)"
   ]
  },
  {
   "cell_type": "code",
   "execution_count": 18,
   "metadata": {},
   "outputs": [
    {
     "name": "stdout",
     "output_type": "stream",
     "text": [
      "solution for: Omega Model\n",
      "objective: 0.0275228\n",
      "status: OPTIMAL_SOLUTION(2)\n",
      "x_166=1.000\n",
      "theta=0.028\n",
      "d_2=0.124\n",
      "d_3=0.047\n",
      "d_7=0.284\n",
      "d_8=0.096\n",
      "d_10=0.075\n",
      "d_12=0.015\n",
      "d_13=0.030\n",
      "d_14=0.023\n",
      "d_15=0.062\n",
      "d_16=0.025\n",
      "d_17=0.342\n",
      "d_19=0.038\n",
      "d_21=0.013\n",
      "d_25=0.035\n",
      "d_26=0.036\n",
      "d_29=0.074\n",
      "d_30=0.057\n",
      "d_33=145.072\n",
      "d_36=0.099\n",
      "d_38=0.065\n",
      "d_39=0.014\n",
      "d_40=0.064\n",
      "d_46=0.117\n",
      "d_48=0.052\n",
      "d_49=0.055\n",
      "d_51=0.073\n",
      "d_52=0.133\n",
      "d_53=0.057\n",
      "d_57=0.041\n",
      "d_63=0.083\n",
      "d_64=0.080\n",
      "d_65=0.046\n",
      "d_67=0.163\n",
      "d_72=0.010\n",
      "d_73=0.202\n",
      "d_78=0.091\n",
      "d_79=0.001\n",
      "d_80=0.155\n",
      "d_82=0.068\n",
      "d_83=0.074\n",
      "d_84=0.036\n",
      "d_86=0.096\n",
      "d_87=0.120\n",
      "d_90=0.067\n",
      "d_92=0.049\n",
      "d_93=0.117\n",
      "d_96=0.026\n",
      "d_99=0.017\n",
      "d_100=0.026\n",
      "d_101=0.161\n",
      "d_109=0.022\n",
      "d_114=0.066\n",
      "d_117=0.063\n",
      "d_118=0.032\n",
      "d_121=0.004\n",
      "d_124=0.006\n",
      "d_127=0.015\n",
      "d_130=0.016\n",
      "d_132=0.003\n",
      "d_137=0.200\n",
      "d_138=0.141\n",
      "d_139=0.023\n",
      "d_141=0.184\n",
      "d_145=0.017\n",
      "d_146=0.294\n",
      "d_148=0.007\n",
      "\n"
     ]
    }
   ],
   "source": [
    "print(solution)"
   ]
  },
  {
   "cell_type": "code",
   "execution_count": null,
   "metadata": {},
   "outputs": [],
   "source": []
  },
  {
   "cell_type": "code",
   "execution_count": null,
   "metadata": {},
   "outputs": [],
   "source": []
  }
 ],
 "metadata": {
  "colab": {
   "provenance": []
  },
  "kernelspec": {
   "display_name": "Python 3 (ipykernel)",
   "language": "python",
   "name": "python3"
  },
  "language_info": {
   "codemirror_mode": {
    "name": "ipython",
    "version": 3
   },
   "file_extension": ".py",
   "mimetype": "text/x-python",
   "name": "python",
   "nbconvert_exporter": "python",
   "pygments_lexer": "ipython3",
   "version": "3.11.5"
  },
  "vscode": {
   "interpreter": {
    "hash": "31f2aee4e71d21fbe5cf8b01ff0e069b9275f58929596ceb00d14d90e3e16cd6"
   }
  }
 },
 "nbformat": 4,
 "nbformat_minor": 1
}
